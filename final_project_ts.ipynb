{
 "cells": [
  {
   "cell_type": "markdown",
   "id": "87bda343",
   "metadata": {},
   "source": [
    "# Final Data Science Project"
   ]
  },
  {
   "cell_type": "markdown",
   "id": "adbf18f3",
   "metadata": {},
   "source": [
    "## Introduction\n",
    "\n",
    "This notebook contains basic examples of concepts covered in the Data Science course, such as programming languages, libraries, tools, arithmetic operations, and more. It serves as a summary of what has been learned throughout the course."
   ]
  },
  {
   "cell_type": "markdown",
   "id": "333ef41d",
   "metadata": {},
   "source": [
    "## Popular Data Science Languages\n",
    "\n",
    "Here are some of the most commonly used programming languages in Data Science:\n",
    "\n",
    "- Python\n",
    "- R\n",
    "- SQL\n",
    "- Julia\n",
    "- Scala"
   ]
  },
  {
   "cell_type": "markdown",
   "id": "260f9274",
   "metadata": {},
   "source": [
    "## Popular Data Science Libraries\n",
    "\n",
    "Some widely used libraries for Data Science include:\n",
    "\n",
    "- Pandas\n",
    "- NumPy\n",
    "- Matplotlib\n",
    "- Scikit-learn\n",
    "- TensorFlow"
   ]
  },
  {
   "cell_type": "markdown",
   "id": "1aa1af64",
   "metadata": {},
   "source": [
    "## Data Science Tools\n",
    "\n",
    "| Tool Name       | Category         | Description                          |\n",
    "|-----------------|------------------|--------------------------------------|\n",
    "| Jupyter Notebook| IDE              | Interactive coding environment       |\n",
    "| RStudio         | IDE              | IDE for R language                   |\n",
    "| Apache Spark    | Big Data Tool    | Distributed data processing engine   |\n",
    "| TensorFlow      | ML Library       | Deep learning framework              |"
   ]
  },
  {
   "cell_type": "markdown",
   "id": "01b01c59",
   "metadata": {},
   "source": [
    "## Examples of Arithmetic Expressions\n",
    "\n",
    "Below are some simple examples of arithmetic expressions in Python."
   ]
  },
  {
   "cell_type": "code",
   "execution_count": null,
   "id": "04c84ee2",
   "metadata": {},
   "outputs": [],
   "source": [
    "# This expression multiplies 3 and 4, then adds 5\n",
    "result = (3 * 4) + 5\n",
    "result"
   ]
  },
  {
   "cell_type": "code",
   "execution_count": null,
   "id": "590bec77",
   "metadata": {},
   "outputs": [],
   "source": [
    "# Convert 200 minutes to hours\n",
    "minutes = 200\n",
    "hours = minutes / 60\n",
    "hours"
   ]
  },
  {
   "cell_type": "markdown",
   "id": "7020888e",
   "metadata": {},
   "source": [
    "## Objectives\n",
    "\n",
    "In this notebook, we aim to:\n",
    "\n",
    "- List popular Data Science languages and libraries\n",
    "- Display tools used in Data Science in a table format\n",
    "- Demonstrate arithmetic operations in Python\n",
    "- Convert minutes into hours using Python\n",
    "- Show proficiency in using Markdown and Code cells"
   ]
  },
  {
   "cell_type": "markdown",
   "id": "71532eed",
   "metadata": {},
   "source": [
    "## Author\n",
    "\n",
    "**Tobias Streich**"
   ]
  }
 ],
 "metadata": {
  "language_info": {
   "name": "python"
  }
 },
 "nbformat": 4,
 "nbformat_minor": 5
}
